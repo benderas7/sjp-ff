{
 "cells": [
  {
   "cell_type": "code",
   "execution_count": null,
   "metadata": {},
   "outputs": [
    {
     "name": "stdout",
     "output_type": "stream",
     "text": [
      "\n",
      "\n",
      "\n",
      "\n",
      "\u001b[1mROUND 1\u001b[0m\n",
      "\n",
      "\n",
      "\u001b[1mAndrew Bender\u001b[0m, you're on the clock!\n"
     ]
    }
   ],
   "source": [
    "# Import necessary modules\n",
    "from draft import Draft\n",
    "\n",
    "# Set parameters\n",
    "draft_format = 'Snake'\n",
    "\n",
    "# Initialize draft\n",
    "d = Draft(draft_format=draft_format)\n",
    "d.pre_draft()\n",
    "d.draft()"
   ]
  }
 ],
 "metadata": {
  "kernelspec": {
   "display_name": "Python 3",
   "language": "python",
   "name": "python3"
  },
  "language_info": {
   "codemirror_mode": {
    "name": "ipython",
    "version": 3
   },
   "file_extension": ".py",
   "mimetype": "text/x-python",
   "name": "python",
   "nbconvert_exporter": "python",
   "pygments_lexer": "ipython3",
   "version": "3.6.8"
  }
 },
 "nbformat": 4,
 "nbformat_minor": 2
}
