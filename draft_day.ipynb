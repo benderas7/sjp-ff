{
 "cells": [
  {
   "cell_type": "code",
   "execution_count": 1,
   "metadata": {},
   "outputs": [],
   "source": [
    "import pandas as pd\n",
    "import random\n",
    "import os\n",
    "import datetime\n",
    "import pickle\n",
    "from IPython.display import display, Markdown"
   ]
  },
  {
   "cell_type": "markdown",
   "metadata": {},
   "source": [
    "Helper function for bolding text string"
   ]
  },
  {
   "cell_type": "code",
   "execution_count": 2,
   "metadata": {},
   "outputs": [],
   "source": [
    "def bold(string):\n",
    "    return '\\033[1m' + string + '\\033[0m'"
   ]
  },
  {
   "cell_type": "markdown",
   "metadata": {},
   "source": [
    "Helper function for ordinals"
   ]
  },
  {
   "cell_type": "code",
   "execution_count": 3,
   "metadata": {},
   "outputs": [],
   "source": [
    "def ordinal(num):\n",
    "    lst = ['st', 'nd', 'rd'] + ['th'] * 17 + (\n",
    "        ['st', 'nd', 'rd'] + ['th'] * 7) * 100\n",
    "    return str(num) + lst[num - 1]"
   ]
  },
  {
   "cell_type": "markdown",
   "metadata": {},
   "source": [
    "## Pre-Draft Proceedings"
   ]
  },
  {
   "cell_type": "markdown",
   "metadata": {},
   "source": [
    "Set parameters"
   ]
  },
  {
   "cell_type": "code",
   "execution_count": 4,
   "metadata": {},
   "outputs": [],
   "source": [
    "curr_yr = str(datetime.datetime.now().year)\n",
    "last_yr = str(int(curr_yr) - 1)"
   ]
  },
  {
   "cell_type": "markdown",
   "metadata": {},
   "source": [
    "Create folder for current year if need be"
   ]
  },
  {
   "cell_type": "code",
   "execution_count": 5,
   "metadata": {},
   "outputs": [],
   "source": [
    "if not os.path.exists(curr_yr):\n",
    "    os.mkdir(curr_yr)"
   ]
  },
  {
   "cell_type": "markdown",
   "metadata": {},
   "source": [
    "Read last year's Draft Results into Pandas DataFrame"
   ]
  },
  {
   "cell_type": "code",
   "execution_count": 6,
   "metadata": {},
   "outputs": [],
   "source": [
    "last_yr_res = '{}/draft_results.xlsx'.format(last_yr)\n",
    "last_yr_indv = '{}/indv_draft_results.xlsx'.format(last_yr)\n",
    "last_yr_df = pd.read_excel(last_yr_res, index_col=2)"
   ]
  },
  {
   "cell_type": "markdown",
   "metadata": {},
   "source": [
    "Load player pool"
   ]
  },
  {
   "cell_type": "code",
   "execution_count": 7,
   "metadata": {},
   "outputs": [],
   "source": [
    "raw_data = '{}/raw_data.xlsx'.format(curr_yr)\n",
    "player_pool = pd.read_excel(raw_data, index_col=[0])\n",
    "player_pool['Position'] = player_pool['Position'].str.strip()"
   ]
  },
  {
   "cell_type": "markdown",
   "metadata": {},
   "source": [
    "Determine keepers if not already done for current year"
   ]
  },
  {
   "cell_type": "code",
   "execution_count": 9,
   "metadata": {},
   "outputs": [],
   "source": [
    "owners = pd.ExcelFile(last_yr_indv).sheet_names\n",
    "\n",
    "keepers_pkl = '{}/keepers.pkl'.format(curr_yr)\n",
    "if os.path.exists(keepers_pkl):\n",
    "    with open(keepers_pkl, 'rb') as f:\n",
    "        keepers = pickle.load(f)\n",
    "else:\n",
    "    keepers = {}\n",
    "    for owner in owners:\n",
    "        input_str = '{}, who would you like to keep? '.format(bold(owner))\n",
    "        player = input(input_str)\n",
    "        while True:\n",
    "            if player == '0':\n",
    "                player = None\n",
    "                round_lost = None\n",
    "                break\n",
    "            if player in last_yr_df.index:\n",
    "                if last_yr_df.Round[player] > 1:\n",
    "                    round_lost = last_yr_df.Round[player] - 1\n",
    "                    break\n",
    "                else:\n",
    "                    input_str = '\\nYou drafted that player in the 1st Round and ' \\\n",
    "                    'cannot keep them. Who else would you like to keep? '\n",
    "                    player = input(input_str)\n",
    "            else:\n",
    "                if player in player_pool.index.tolist():\n",
    "                    round_lost = 16\n",
    "                    break\n",
    "                player = input('\\nThat player is not in the player pool. Please re-enter ' \\\n",
    "                               'the player, making sure you spelled his name correctly: ')\n",
    "                \n",
    "        if player:\n",
    "            print('{} will count as your {} pick.\\n'.format(\n",
    "                bold(player), bold(ordinal(round_lost) + ' Round')))\n",
    "        keepers[owner] = {'player': player, 'round': round_lost}\n",
    "    with open(keepers_pkl, 'wb') as f:\n",
    "        pickle.dump(keepers, f)"
   ]
  },
  {
   "cell_type": "markdown",
   "metadata": {},
   "source": [
    "Determine draft order"
   ]
  },
  {
   "cell_type": "code",
   "execution_count": 10,
   "metadata": {},
   "outputs": [],
   "source": [
    "draft_order_pkl = '{}/draft_order.pkl'.format(curr_yr)\n",
    "if os.path.exists(draft_order_pkl):\n",
    "    with open(draft_order_pkl, 'rb') as f:\n",
    "        draft_order = pickle.load(f)\n",
    "else:\n",
    "    random.shuffle(owners)\n",
    "    draft_order = [None] * len(owners)\n",
    "    for owner in owners:\n",
    "        input_str = \"\\n{}, you're up!\\nWhich draft slot would you like? \".format(\n",
    "            bold(owner))\n",
    "        slot = int(input(input_str))\n",
    "        while True:\n",
    "            if slot > 8 or slot < 1:\n",
    "                input_str = '\\nSelect a number between 1 and 8: '\n",
    "                slot = int(input(input_str))\n",
    "            elif draft_order[slot - 1]:\n",
    "                input_str = '\\nThat draft slot is already taken. Pick a ' \\\n",
    "                'different one: '\n",
    "                slot = int(input(input_str))\n",
    "            else:\n",
    "                draft_order[slot - 1] = owner\n",
    "                break\n",
    "    with open(draft_order_pkl, 'wb') as f:\n",
    "        pickle.dump(draft_order, f)\n"
   ]
  },
  {
   "cell_type": "markdown",
   "metadata": {},
   "source": [
    "## Draft"
   ]
  },
  {
   "cell_type": "markdown",
   "metadata": {},
   "source": [
    "Set parameters"
   ]
  },
  {
   "cell_type": "code",
   "execution_count": 11,
   "metadata": {},
   "outputs": [],
   "source": [
    "num_rounds = 16"
   ]
  },
  {
   "cell_type": "markdown",
   "metadata": {},
   "source": [
    "Initialize draft history"
   ]
  },
  {
   "cell_type": "code",
   "execution_count": 12,
   "metadata": {},
   "outputs": [],
   "source": [
    "num_picks = len(draft_order) * num_rounds\n",
    "column_names = ['Round', 'Player', 'Position', 'Bye', 'ESPN Projection', 'Owner']\n",
    "draft_history = pd.DataFrame(index=[], columns=column_names)\n",
    "draft_history.index.name = 'Pick Overall'"
   ]
  },
  {
   "cell_type": "markdown",
   "metadata": {},
   "source": [
    "Initialize individual draft histories and depth charts"
   ]
  },
  {
   "cell_type": "code",
   "execution_count": 13,
   "metadata": {},
   "outputs": [],
   "source": [
    "draft_history_indv = {}\n",
    "depth_charts = {}\n",
    "for owner in draft_order:\n",
    "    column_names = ['Round', 'Player', 'Position', 'Bye', 'ESPN Projection']\n",
    "    draft_history_indv[owner] = pd.DataFrame(index=[], columns=column_names)\n",
    "    draft_history_indv[owner].index.name = 'Pick Overall'\n",
    "    depth_charts[owner] = pd.read_excel('depth_chart_blank.xlsx', index_col=[0])"
   ]
  },
  {
   "cell_type": "markdown",
   "metadata": {},
   "source": [
    "Draft helper function - fill depth chart"
   ]
  },
  {
   "cell_type": "code",
   "execution_count": 14,
   "metadata": {},
   "outputs": [],
   "source": [
    "def fill_depth_chart(owner, position):\n",
    "    spots = depth_charts[owner].index.tolist()\n",
    "    for spot in spots:\n",
    "        if position in spot and pd.isnull(depth_charts[owner].at[spot, 'Player']):\n",
    "            return spot\n",
    "        elif (position == 'RB' or position == 'WR') and spot == 'FLEX' and \\\n",
    "        pd.isnull(depth_charts[owner].at[spot, 'Player']):\n",
    "            return spot\n",
    "        elif 'Bench' in spot and pd.isnull(depth_charts[owner].at[spot, 'Player']):\n",
    "            return spot\n",
    "    return spot[:-1] + str(int(spot[-1]) + 1)"
   ]
  },
  {
   "cell_type": "markdown",
   "metadata": {},
   "source": [
    "Keeper management"
   ]
  },
  {
   "cell_type": "code",
   "execution_count": 15,
   "metadata": {},
   "outputs": [],
   "source": [
    "for owner, keeper_dct in keepers.items():\n",
    "    # Extract relevant info from keeper_dct\n",
    "    player = keeper_dct['player']\n",
    "    if player:\n",
    "        round_num = keeper_dct['round']\n",
    "\n",
    "        the_pick = player_pool.loc[player]\n",
    "\n",
    "        if round_num % 2:\n",
    "            spot_in_rd = draft_order.index(owner)\n",
    "        else:\n",
    "            spot_in_rd = len(owners) - draft_order.index(owner)\n",
    "        pick = (round_num - 1) * len(owners) + spot_in_rd\n",
    "\n",
    "        # Remove keeper from player pool\n",
    "        player_pool = player_pool.drop(player)\n",
    "\n",
    "        # Put keepers in draft histories and depth charts\n",
    "        draft_history.loc[pick] = [str(round_num), player, the_pick['Position'],\n",
    "                                   the_pick['Bye'], the_pick['ESPN Projection'], owner]\n",
    "        draft_history_indv[owner].loc[pick] = [str(round_num), player, the_pick['Position'],\n",
    "                                               the_pick['Bye'], the_pick['ESPN Projection']]\n",
    "        index = fill_depth_chart(owner, the_pick['Position'])\n",
    "        depth_charts[owner].loc[index] = [player, the_pick['Bye'], the_pick['ESPN Projection']]\n",
    "        depth_charts[owner] = depth_charts[owner].astype({'Bye': pd.Int64Dtype()})"
   ]
  },
  {
   "cell_type": "markdown",
   "metadata": {},
   "source": [
    "Perform draft"
   ]
  },
  {
   "cell_type": "code",
   "execution_count": 16,
   "metadata": {
    "scrolled": false
   },
   "outputs": [
    {
     "name": "stdout",
     "output_type": "stream",
     "text": [
      "\n",
      "\n",
      "\n",
      "\n",
      "\u001b[1mROUND 1\u001b[0m\n",
      "\n",
      "\n",
      "\u001b[1mOwen Johnson\u001b[0m, you're up!\n"
     ]
    },
    {
     "ename": "KeyboardInterrupt",
     "evalue": "",
     "output_type": "error",
     "traceback": [
      "\u001b[0;31m---------------------------------------------------------------------------\u001b[0m",
      "\u001b[0;31mKeyboardInterrupt\u001b[0m                         Traceback (most recent call last)",
      "\u001b[0;32m/anaconda3/lib/python3.6/site-packages/ipykernel/kernelbase.py\u001b[0m in \u001b[0;36m_input_request\u001b[0;34m(self, prompt, ident, parent, password)\u001b[0m\n\u001b[1;32m    877\u001b[0m             \u001b[0;32mtry\u001b[0m\u001b[0;34m:\u001b[0m\u001b[0;34m\u001b[0m\u001b[0;34m\u001b[0m\u001b[0m\n\u001b[0;32m--> 878\u001b[0;31m                 \u001b[0mident\u001b[0m\u001b[0;34m,\u001b[0m \u001b[0mreply\u001b[0m \u001b[0;34m=\u001b[0m \u001b[0mself\u001b[0m\u001b[0;34m.\u001b[0m\u001b[0msession\u001b[0m\u001b[0;34m.\u001b[0m\u001b[0mrecv\u001b[0m\u001b[0;34m(\u001b[0m\u001b[0mself\u001b[0m\u001b[0;34m.\u001b[0m\u001b[0mstdin_socket\u001b[0m\u001b[0;34m,\u001b[0m \u001b[0;36m0\u001b[0m\u001b[0;34m)\u001b[0m\u001b[0;34m\u001b[0m\u001b[0;34m\u001b[0m\u001b[0m\n\u001b[0m\u001b[1;32m    879\u001b[0m             \u001b[0;32mexcept\u001b[0m \u001b[0mException\u001b[0m\u001b[0;34m:\u001b[0m\u001b[0;34m\u001b[0m\u001b[0;34m\u001b[0m\u001b[0m\n",
      "\u001b[0;32m/anaconda3/lib/python3.6/site-packages/jupyter_client/session.py\u001b[0m in \u001b[0;36mrecv\u001b[0;34m(self, socket, mode, content, copy)\u001b[0m\n\u001b[1;32m    802\u001b[0m         \u001b[0;32mtry\u001b[0m\u001b[0;34m:\u001b[0m\u001b[0;34m\u001b[0m\u001b[0;34m\u001b[0m\u001b[0m\n\u001b[0;32m--> 803\u001b[0;31m             \u001b[0mmsg_list\u001b[0m \u001b[0;34m=\u001b[0m \u001b[0msocket\u001b[0m\u001b[0;34m.\u001b[0m\u001b[0mrecv_multipart\u001b[0m\u001b[0;34m(\u001b[0m\u001b[0mmode\u001b[0m\u001b[0;34m,\u001b[0m \u001b[0mcopy\u001b[0m\u001b[0;34m=\u001b[0m\u001b[0mcopy\u001b[0m\u001b[0;34m)\u001b[0m\u001b[0;34m\u001b[0m\u001b[0;34m\u001b[0m\u001b[0m\n\u001b[0m\u001b[1;32m    804\u001b[0m         \u001b[0;32mexcept\u001b[0m \u001b[0mzmq\u001b[0m\u001b[0;34m.\u001b[0m\u001b[0mZMQError\u001b[0m \u001b[0;32mas\u001b[0m \u001b[0me\u001b[0m\u001b[0;34m:\u001b[0m\u001b[0;34m\u001b[0m\u001b[0;34m\u001b[0m\u001b[0m\n",
      "\u001b[0;32m/anaconda3/lib/python3.6/site-packages/zmq/sugar/socket.py\u001b[0m in \u001b[0;36mrecv_multipart\u001b[0;34m(self, flags, copy, track)\u001b[0m\n\u001b[1;32m    466\u001b[0m         \"\"\"\n\u001b[0;32m--> 467\u001b[0;31m         \u001b[0mparts\u001b[0m \u001b[0;34m=\u001b[0m \u001b[0;34m[\u001b[0m\u001b[0mself\u001b[0m\u001b[0;34m.\u001b[0m\u001b[0mrecv\u001b[0m\u001b[0;34m(\u001b[0m\u001b[0mflags\u001b[0m\u001b[0;34m,\u001b[0m \u001b[0mcopy\u001b[0m\u001b[0;34m=\u001b[0m\u001b[0mcopy\u001b[0m\u001b[0;34m,\u001b[0m \u001b[0mtrack\u001b[0m\u001b[0;34m=\u001b[0m\u001b[0mtrack\u001b[0m\u001b[0;34m)\u001b[0m\u001b[0;34m]\u001b[0m\u001b[0;34m\u001b[0m\u001b[0;34m\u001b[0m\u001b[0m\n\u001b[0m\u001b[1;32m    468\u001b[0m         \u001b[0;31m# have first part already, only loop while more to receive\u001b[0m\u001b[0;34m\u001b[0m\u001b[0;34m\u001b[0m\u001b[0;34m\u001b[0m\u001b[0m\n",
      "\u001b[0;32mzmq/backend/cython/socket.pyx\u001b[0m in \u001b[0;36mzmq.backend.cython.socket.Socket.recv\u001b[0;34m()\u001b[0m\n",
      "\u001b[0;32mzmq/backend/cython/socket.pyx\u001b[0m in \u001b[0;36mzmq.backend.cython.socket.Socket.recv\u001b[0;34m()\u001b[0m\n",
      "\u001b[0;32mzmq/backend/cython/socket.pyx\u001b[0m in \u001b[0;36mzmq.backend.cython.socket._recv_copy\u001b[0;34m()\u001b[0m\n",
      "\u001b[0;32m/anaconda3/lib/python3.6/site-packages/zmq/backend/cython/checkrc.pxd\u001b[0m in \u001b[0;36mzmq.backend.cython.checkrc._check_rc\u001b[0;34m()\u001b[0m\n",
      "\u001b[0;31mKeyboardInterrupt\u001b[0m: ",
      "\nDuring handling of the above exception, another exception occurred:\n",
      "\u001b[0;31mKeyboardInterrupt\u001b[0m                         Traceback (most recent call last)",
      "\u001b[0;32m<ipython-input-16-542b6b36e26d>\u001b[0m in \u001b[0;36m<module>\u001b[0;34m\u001b[0m\n\u001b[1;32m     43\u001b[0m             \u001b[0;32melse\u001b[0m\u001b[0;34m:\u001b[0m\u001b[0;34m\u001b[0m\u001b[0;34m\u001b[0m\u001b[0m\n\u001b[1;32m     44\u001b[0m                 \u001b[0mprint\u001b[0m\u001b[0;34m(\u001b[0m\u001b[0;34m\"\\n\\n{}, you're up!\"\u001b[0m\u001b[0;34m.\u001b[0m\u001b[0mformat\u001b[0m\u001b[0;34m(\u001b[0m\u001b[0mbold\u001b[0m\u001b[0;34m(\u001b[0m\u001b[0mowner\u001b[0m\u001b[0;34m)\u001b[0m\u001b[0;34m)\u001b[0m\u001b[0;34m)\u001b[0m\u001b[0;34m\u001b[0m\u001b[0;34m\u001b[0m\u001b[0m\n\u001b[0;32m---> 45\u001b[0;31m                 \u001b[0moption\u001b[0m \u001b[0;34m=\u001b[0m \u001b[0minput\u001b[0m\u001b[0;34m(\u001b[0m\u001b[0minput_str\u001b[0m\u001b[0;34m)\u001b[0m\u001b[0;34m\u001b[0m\u001b[0;34m\u001b[0m\u001b[0m\n\u001b[0m\u001b[1;32m     46\u001b[0m \u001b[0;34m\u001b[0m\u001b[0m\n\u001b[1;32m     47\u001b[0m             \u001b[0;32mif\u001b[0m \u001b[0moption\u001b[0m \u001b[0;34m==\u001b[0m \u001b[0;34m'1'\u001b[0m\u001b[0;34m:\u001b[0m\u001b[0;34m\u001b[0m\u001b[0;34m\u001b[0m\u001b[0m\n",
      "\u001b[0;32m/anaconda3/lib/python3.6/site-packages/ipykernel/kernelbase.py\u001b[0m in \u001b[0;36mraw_input\u001b[0;34m(self, prompt)\u001b[0m\n\u001b[1;32m    851\u001b[0m             \u001b[0mself\u001b[0m\u001b[0;34m.\u001b[0m\u001b[0m_parent_ident\u001b[0m\u001b[0;34m,\u001b[0m\u001b[0;34m\u001b[0m\u001b[0;34m\u001b[0m\u001b[0m\n\u001b[1;32m    852\u001b[0m             \u001b[0mself\u001b[0m\u001b[0;34m.\u001b[0m\u001b[0m_parent_header\u001b[0m\u001b[0;34m,\u001b[0m\u001b[0;34m\u001b[0m\u001b[0;34m\u001b[0m\u001b[0m\n\u001b[0;32m--> 853\u001b[0;31m             \u001b[0mpassword\u001b[0m\u001b[0;34m=\u001b[0m\u001b[0;32mFalse\u001b[0m\u001b[0;34m,\u001b[0m\u001b[0;34m\u001b[0m\u001b[0;34m\u001b[0m\u001b[0m\n\u001b[0m\u001b[1;32m    854\u001b[0m         )\n\u001b[1;32m    855\u001b[0m \u001b[0;34m\u001b[0m\u001b[0m\n",
      "\u001b[0;32m/anaconda3/lib/python3.6/site-packages/ipykernel/kernelbase.py\u001b[0m in \u001b[0;36m_input_request\u001b[0;34m(self, prompt, ident, parent, password)\u001b[0m\n\u001b[1;32m    881\u001b[0m             \u001b[0;32mexcept\u001b[0m \u001b[0mKeyboardInterrupt\u001b[0m\u001b[0;34m:\u001b[0m\u001b[0;34m\u001b[0m\u001b[0;34m\u001b[0m\u001b[0m\n\u001b[1;32m    882\u001b[0m                 \u001b[0;31m# re-raise KeyboardInterrupt, to truncate traceback\u001b[0m\u001b[0;34m\u001b[0m\u001b[0;34m\u001b[0m\u001b[0;34m\u001b[0m\u001b[0m\n\u001b[0;32m--> 883\u001b[0;31m                 \u001b[0;32mraise\u001b[0m \u001b[0mKeyboardInterrupt\u001b[0m\u001b[0;34m\u001b[0m\u001b[0;34m\u001b[0m\u001b[0m\n\u001b[0m\u001b[1;32m    884\u001b[0m             \u001b[0;32melse\u001b[0m\u001b[0;34m:\u001b[0m\u001b[0;34m\u001b[0m\u001b[0;34m\u001b[0m\u001b[0m\n\u001b[1;32m    885\u001b[0m                 \u001b[0;32mbreak\u001b[0m\u001b[0;34m\u001b[0m\u001b[0;34m\u001b[0m\u001b[0m\n",
      "\u001b[0;31mKeyboardInterrupt\u001b[0m: "
     ]
    }
   ],
   "source": [
    "results = '{}/draft_results.xlsx'.format(curr_yr)\n",
    "indv_results = '{}/indv_draft_results.xlsx'.format(curr_yr)\n",
    "indv_depth_charts = '{}/indv_draft_charts.xlsx'.format(curr_yr)\n",
    "\n",
    "draft_params_pkl = '{}/draft_params.pkl'.format(curr_yr)\n",
    "if os.path.exists(draft_params_pkl):\n",
    "    with open(draft_params_pkl, 'rb') as f:\n",
    "        draft_params = pickle.load(f)\n",
    "    pick, owner_idx, round_num, player_pool, draft_history, \\\n",
    "    draft_history_indv, depth_charts = draft_params\n",
    "else:\n",
    "    pick = 1\n",
    "    owner_idx = 0\n",
    "    round_num = 1\n",
    "\n",
    "while round_num < num_rounds + 1:\n",
    "    print('\\n\\n\\n\\n{}'.format(bold('ROUND ' + str(round_num))))\n",
    "    while owner_idx < len(draft_order):\n",
    "        if round_num % 2:\n",
    "            owner = draft_order[owner_idx]\n",
    "        else:\n",
    "            owner = draft_order[-1 - owner_idx]\n",
    "        \n",
    "        while True:\n",
    "            input_str = \"\"\"You can either enter who you would like to draft or perform any of the following\n",
    "options by entering it's corresponding number:\n",
    "\n",
    "1) Look at who you already have drafted\n",
    "2) View your current depth chart\n",
    "3) See Mike Clay's best players available\n",
    "4) See the last 10 players drafted\n",
    "5) Look at the full draft history\n",
    "\n",
    "\"\"\"\n",
    "            # Check if keeper should be taken this round\n",
    "            if keepers[owner]['round'] == round_num:\n",
    "                player = keepers[owner]['player']\n",
    "                print('\\n{} Kept {} with the {} Overall Pick'.format(\n",
    "                    bold(owner), bold(player), bold(ordinal(pick))))\n",
    "                pick += 1\n",
    "                owner_idx += 1\n",
    "                break\n",
    "            else:\n",
    "                print(\"\\n\\n{}, you're up!\".format(bold(owner)))\n",
    "                option = input(input_str)\n",
    "\n",
    "            if option == '1':\n",
    "                display(draft_history_indv[owner].sort_values('Pick Overall'))\n",
    "            elif option == '2':\n",
    "                display(depth_charts[owner])\n",
    "            elif option == '3':\n",
    "                display(player_pool.head(10))\n",
    "            elif option == '4':\n",
    "                display(draft_history[draft_history.index < pick].tail(10))\n",
    "            elif option == '5':\n",
    "                display(draft_history.sort_values('Pick Overall'))\n",
    "            else:\n",
    "                player = option\n",
    "                while True:\n",
    "                    if option == '9':\n",
    "                        player = player_pool.head(1).index[0]\n",
    "                    if player in player_pool.index.tolist():\n",
    "                        the_pick = player_pool.loc[player]\n",
    "                        player_pool = player_pool.drop(player)\n",
    "                        break\n",
    "                    player = input('\\nThat player is not in the player pool. Please re-enter ' \\\n",
    "                                   'the player, making sure you spelled his name correctly: ')\n",
    "\n",
    "                # Update depth chart / draft histories\n",
    "                draft_history.loc[pick] = [str(round_num), player, the_pick[\n",
    "                    'Position'], the_pick['Bye'], the_pick['ESPN Projection'], owner]\n",
    "                draft_history_indv[owner].loc[pick] = [str(round_num), player, the_pick[\n",
    "                    'Position'], the_pick['Bye'], the_pick['ESPN Projection']]\n",
    "                index = fill_depth_chart(owner, the_pick['Position'])\n",
    "                depth_charts[owner].loc[index] = [\n",
    "                    player, the_pick['Bye'], the_pick['ESPN Projection']]\n",
    "                depth_charts[owner] = depth_charts[owner].astype({'Bye': pd.Int64Dtype()})\n",
    "                \n",
    "                # Sort draft histories\n",
    "                draft_history = draft_history.sort_values('Pick Overall')\n",
    "                for own in owners:\n",
    "                    draft_history_indv[own] = draft_history_indv[own].sort_values('Pick Overall')\n",
    "                \n",
    "                # Display pick\n",
    "                print('\\n{} Took {} with the {} Overall Pick'.format(\n",
    "                    bold(owner), bold(player), bold(ordinal(pick))))\n",
    "\n",
    "                # Save excel spreedsheets\n",
    "                writer = pd.ExcelWriter(results)\n",
    "                draft_history.to_excel(writer, 'Draft Results')\n",
    "                writer.save()\n",
    "\n",
    "                writer2 = pd.ExcelWriter(indv_results)\n",
    "                for owner, df in draft_history_indv.items():\n",
    "                    df.to_excel(writer2, owner)\n",
    "                writer2.save()\n",
    "\n",
    "                writer3 = pd.ExcelWriter(indv_depth_charts)\n",
    "                for owner, df in depth_charts.items():\n",
    "                    df.to_excel(writer3, owner)\n",
    "                writer3.save()\n",
    "                \n",
    "                pick += 1\n",
    "                owner_idx += 1\n",
    "                \n",
    "                # Save draft parameters\n",
    "                draft_params = [pick, owner_idx, round_num, player_pool, draft_history, \n",
    "                                draft_history_indv, depth_charts]\n",
    "                \n",
    "                with open(draft_params_pkl, 'wb') as f:\n",
    "                    pickle.dump(draft_params, f)\n",
    "                    \n",
    "                break\n",
    "        \n",
    "    round_num += 1\n",
    "    owner_idx = 0"
   ]
  }
 ],
 "metadata": {
  "kernelspec": {
   "display_name": "Python 3",
   "language": "python",
   "name": "python3"
  },
  "language_info": {
   "codemirror_mode": {
    "name": "ipython",
    "version": 3
   },
   "file_extension": ".py",
   "mimetype": "text/x-python",
   "name": "python",
   "nbconvert_exporter": "python",
   "pygments_lexer": "ipython3",
   "version": "3.6.8"
  }
 },
 "nbformat": 4,
 "nbformat_minor": 2
}
