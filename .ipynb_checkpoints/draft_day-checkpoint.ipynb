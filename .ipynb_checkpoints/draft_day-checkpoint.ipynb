{
 "cells": [
  {
   "cell_type": "code",
   "execution_count": 1,
   "metadata": {},
   "outputs": [],
   "source": [
    "import pandas as pd\n",
    "import random\n",
    "import os\n",
    "import datetime\n",
    "import pickle\n",
    "from IPython.display import display, Markdown"
   ]
  },
  {
   "cell_type": "markdown",
   "metadata": {},
   "source": [
    "Helper function for bolding text string"
   ]
  },
  {
   "cell_type": "code",
   "execution_count": 2,
   "metadata": {},
   "outputs": [],
   "source": [
    "def bold(string):\n",
    "    return '\\033[1m' + string + '\\033[0m'"
   ]
  },
  {
   "cell_type": "markdown",
   "metadata": {},
   "source": [
    "Helper function for ordinals"
   ]
  },
  {
   "cell_type": "code",
   "execution_count": 3,
   "metadata": {},
   "outputs": [],
   "source": [
    "def ordinal(num):\n",
    "    lst = ['st', 'nd', 'rd'] + ['th'] * 17 + (\n",
    "        ['st', 'nd', 'rd'] + ['th'] * 7) * 100\n",
    "    return str(num) + lst[num - 1]"
   ]
  },
  {
   "cell_type": "markdown",
   "metadata": {},
   "source": [
    "## Pre-Draft Proceedings"
   ]
  },
  {
   "cell_type": "markdown",
   "metadata": {},
   "source": [
    "Set parameters"
   ]
  },
  {
   "cell_type": "code",
   "execution_count": 4,
   "metadata": {},
   "outputs": [],
   "source": [
    "curr_yr = str(datetime.datetime.now().year)\n",
    "last_yr = str(int(curr_yr) - 1)"
   ]
  },
  {
   "cell_type": "markdown",
   "metadata": {},
   "source": [
    "Create folder for current year if need be"
   ]
  },
  {
   "cell_type": "code",
   "execution_count": 5,
   "metadata": {},
   "outputs": [],
   "source": [
    "if not os.path.exists(curr_yr):\n",
    "    os.mkdir(curr_yr)"
   ]
  },
  {
   "cell_type": "markdown",
   "metadata": {},
   "source": [
    "Read last year's Draft Results into Pandas DataFrame"
   ]
  },
  {
   "cell_type": "code",
   "execution_count": 6,
   "metadata": {},
   "outputs": [],
   "source": [
    "last_yr_res = '{}/draft_results.xlsx'.format(last_yr)\n",
    "last_yr_indv = '{}/indv_draft_results.xlsx'.format(last_yr)\n",
    "last_yr_df = pd.read_excel(last_yr_res, index_col=2)"
   ]
  },
  {
   "cell_type": "markdown",
   "metadata": {},
   "source": [
    "Determine keepers if not already done for current year"
   ]
  },
  {
   "cell_type": "code",
   "execution_count": 7,
   "metadata": {},
   "outputs": [],
   "source": [
    "owners = pd.ExcelFile(last_yr_indv).sheet_names\n",
    "\n",
    "keepers_pkl = '{}/keepers.pkl'.format(curr_yr)\n",
    "if os.path.exists(keepers_pkl):\n",
    "    with open(keepers_pkl, 'rb') as f:\n",
    "        keepers = pickle.load(f)\n",
    "else:\n",
    "    keepers = {}\n",
    "    for owner in owners:\n",
    "        input_str = '{}, who would you like to keep? '.format(bold(owner))\n",
    "        player = input(input_str)\n",
    "        while True:\n",
    "            if player in last_yr_df.index:\n",
    "                if last_yr_df.Round[player] > 1:\n",
    "                    round_lost = last_yr_df.Round[player] - 1\n",
    "                    break\n",
    "                else:\n",
    "                    input_str = '\\nYou drafted that player in the 1st Round and ' \\\n",
    "                    'cannot keep them. Who else would you like to keep? '\n",
    "                    player = input(input_str)\n",
    "            else:\n",
    "                round_lost = 16\n",
    "                break\n",
    "        print('{} will count as your {} pick.\\n'.format(\n",
    "            bold(player), bold(ordinal(round_lost) + ' Round')))\n",
    "        keepers[owner] = {'player': player, 'round': round_lost}\n",
    "    with open(keepers_pkl, 'wb') as f:\n",
    "        pickle.dump(keepers, f)"
   ]
  },
  {
   "cell_type": "markdown",
   "metadata": {},
   "source": [
    "Determine draft order"
   ]
  },
  {
   "cell_type": "code",
   "execution_count": 8,
   "metadata": {},
   "outputs": [],
   "source": [
    "draft_order_pkl = '{}/draft_order.pkl'.format(curr_yr)\n",
    "if os.path.exists(draft_order_pkl):\n",
    "    with open(draft_order_pkl, 'rb') as f:\n",
    "        draft_order = pickle.load(f)\n",
    "else:\n",
    "    random.shuffle(owners)\n",
    "    draft_order = [None] * len(owners)\n",
    "    for owner in owners:\n",
    "        input_str = \"\\n{}, you're up!\\nWhich draft slot would you like? \".format(\n",
    "            bold(owner))\n",
    "        slot = int(input(input_str))\n",
    "        while True:\n",
    "            if slot > 8 or slot < 1:\n",
    "                input_str = '\\nSelect a number between 1 and 8: '\n",
    "                slot = int(input(input_str))\n",
    "            elif draft_order[slot - 1]:\n",
    "                input_str = '\\nThat draft slot is already taken. Pick a ' \\\n",
    "                'different one: '\n",
    "                slot = int(input(input_str))\n",
    "            else:\n",
    "                draft_order[slot - 1] = owner\n",
    "                break\n",
    "    with open(draft_order_pkl, 'wb') as f:\n",
    "        pickle.dump(draft_order, f)\n"
   ]
  },
  {
   "cell_type": "markdown",
   "metadata": {},
   "source": [
    "## Draft"
   ]
  },
  {
   "cell_type": "markdown",
   "metadata": {},
   "source": [
    "Set parameters"
   ]
  },
  {
   "cell_type": "code",
   "execution_count": 11,
   "metadata": {},
   "outputs": [],
   "source": [
    "num_rounds = 16"
   ]
  },
  {
   "cell_type": "markdown",
   "metadata": {},
   "source": [
    "Load player pool"
   ]
  },
  {
   "cell_type": "code",
   "execution_count": 12,
   "metadata": {},
   "outputs": [],
   "source": [
    "raw_data = '{}/raw_data.xlsx'.format(curr_yr)\n",
    "player_pool = pd.read_excel(raw_data, index_col=[0], usecols=[0, 1, 2])\n",
    "player_pool['Position'] = player_pool['Position'].str.strip()"
   ]
  },
  {
   "cell_type": "markdown",
   "metadata": {},
   "source": [
    "Initialize draft history"
   ]
  },
  {
   "cell_type": "code",
   "execution_count": 13,
   "metadata": {},
   "outputs": [],
   "source": [
    "num_picks = len(draft_order) * num_rounds\n",
    "column_names = ['Round', 'Player', 'Position', 'Owner']\n",
    "draft_history = pd.DataFrame(index=[], columns=column_names)\n",
    "draft_history.index.name = 'Pick Overall'"
   ]
  },
  {
   "cell_type": "markdown",
   "metadata": {},
   "source": [
    "Initialize individual draft histories and depth charts"
   ]
  },
  {
   "cell_type": "code",
   "execution_count": 14,
   "metadata": {},
   "outputs": [],
   "source": [
    "draft_history_indv = {}\n",
    "depth_charts ={}\n",
    "for owner in draft_order:\n",
    "    column_names = ['Round', 'Player', 'Position']\n",
    "    draft_history_indv[owner] = pd.DataFrame(index=[], columns=column_names)\n",
    "    draft_history_indv[owner].index.name = 'Pick Overall'\n",
    "    depth_charts[owner] = pd.read_excel('depth_chart_blank.xlsx', index_col=[0])"
   ]
  },
  {
   "cell_type": "markdown",
   "metadata": {},
   "source": [
    "Draft helper function - fill depth chart"
   ]
  },
  {
   "cell_type": "code",
   "execution_count": 15,
   "metadata": {},
   "outputs": [],
   "source": [
    "def fill_depth_chart(owner, position):\n",
    "    spots = depth_charts[owner].index.tolist()\n",
    "    for spot in spots:\n",
    "        if (position or 'Bench') in spot:\n",
    "            if pd.isnull(depth_charts[owner].at[spot, 'Player']):\n",
    "                index = spot\n",
    "                break\n",
    "    return index"
   ]
  },
  {
   "cell_type": "markdown",
   "metadata": {},
   "source": [
    "Draft helper function - single pick"
   ]
  },
  {
   "cell_type": "code",
   "execution_count": 17,
   "metadata": {},
   "outputs": [],
   "source": [
    "def one_pick(round_num, pick, owner):\n",
    "    print(\"\\n\\n\\n\\n\\n{}, you're up!\".format(owner))\n",
    "    while True:\n",
    "        input_str = \"\"\"\n",
    "You can either enter who you would like to draft or perform any of the following\n",
    "options by entering it's corresponding number:\n",
    "\n",
    "1) Look at who you already have drafted\n",
    "2) Look at the full draft history\n",
    "\n",
    "\"\"\"\n",
    "        # Check if keeper should be taken this round\n",
    "        if keepers[owner]['round'] == round_num:\n",
    "            option = keepers[owner]['player']\n",
    "        else:\n",
    "            option = input(input_str)\n",
    "\n",
    "        if option == '1':\n",
    "            display(draft_history_indv[owner])\n",
    "        #elif option == '2':\n",
    "            #display(depth_charts[owner])\n",
    "        elif option == '2':\n",
    "            display(draft_history)\n",
    "        else:\n",
    "            player = option\n",
    "            while True:\n",
    "                if player in player_pool.index.tolist():\n",
    "                    the_pick = player_pool.loc[player]\n",
    "                    player_pool.drop(player)\n",
    "                    break\n",
    "                player = input('\\nThat player is not in the player pool. Please re-enter ' \\\n",
    "                               'the player, making sure you spelled his name correctly: ')\n",
    "\n",
    "            # Update depth chart / draft histories\n",
    "            draft_history.loc[pick] = [str(round_num), player, the_pick['Position'], owner]\n",
    "            draft_history_indv[owner].loc[pick] = [str(round_num), player, the_pick['Position']]\n",
    "            #index = fill_depth_chart(owner, the_pick['Position'])\n",
    "            #depth_charts[owner].loc[index] = player\n",
    "\n",
    "            # Display pick\n",
    "            print('\\n\\n\\n\\n\\n{} Took {} with the {} Overall Pick'.format(\n",
    "                bold(owner), (player),  inflect.engine().ordinal(pick)))\n",
    "            pick += 1\n",
    "            break\n",
    "    return\n",
    "    "
   ]
  },
  {
   "cell_type": "markdown",
   "metadata": {},
   "source": [
    "Perform draft"
   ]
  },
  {
   "cell_type": "code",
   "execution_count": null,
   "metadata": {},
   "outputs": [],
   "source": [
    "pick = 1\n",
    "results = '{}/draft_results.xlsx'.format(curr_yr)\n",
    "indv_results = '{}/indv_draft_results.xlsx'.format(curr_yr)\n",
    "\n",
    "for round_num in range(1, num_rounds + 1):\n",
    "    print('\\n\\n\\n\\n\\nROUND {}'.format(round_num))\n",
    "    for owner in draft_order:\n",
    "        one_pick(round_num, pick, owner)\n",
    "    \n",
    "        # Save excel spreedsheets\n",
    "        writer = pd.ExcelWriter(results)\n",
    "        draft_history.to_excel(writer, 'Draft Results')\n",
    "        writer.save()\n",
    "\n",
    "        writer2 = pd.ExcelWriter(indv_results)\n",
    "        for owner, df in draft_history_indv.items():\n",
    "            df.to_excel(writer2, owner)\n",
    "        writer2.save()\n",
    "\n",
    "        #writer3 = pd.ExcelWriter('Individual Depth Charts 2018.xlsx')\n",
    "        #for owner, df in depth_charts.items():\n",
    "            #df.to_excel(writer3, owner)\n",
    "        #writer3.save()\n",
    "    \n",
    "    draft_order.reverse()"
   ]
  }
 ],
 "metadata": {
  "kernelspec": {
   "display_name": "Python 3",
   "language": "python",
   "name": "python3"
  },
  "language_info": {
   "codemirror_mode": {
    "name": "ipython",
    "version": 3
   },
   "file_extension": ".py",
   "mimetype": "text/x-python",
   "name": "python",
   "nbconvert_exporter": "python",
   "pygments_lexer": "ipython3",
   "version": "3.6.8"
  }
 },
 "nbformat": 4,
 "nbformat_minor": 2
}
