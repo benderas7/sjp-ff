{
 "cells": [
  {
   "cell_type": "code",
   "execution_count": 60,
   "metadata": {},
   "outputs": [],
   "source": [
    "import numpy as np\n",
    "import os\n",
    "import pandas as pd"
   ]
  },
  {
   "cell_type": "code",
   "execution_count": 67,
   "metadata": {},
   "outputs": [],
   "source": [
    "POS = ((\"Q\", 1), (\"R\", 2), (\"W\", 2), (\"T\", 1), ((\"R\", \"W\", \"T\"), 2))\n",
    "BENCH = 7"
   ]
  },
  {
   "cell_type": "code",
   "execution_count": 54,
   "metadata": {},
   "outputs": [],
   "source": [
    "# Get folder for most recent season\n",
    "folders = [\n",
    "    f\n",
    "    for f in os.listdir()\n",
    "    if os.path.isdir(f) and not f.startswith(\".\") and not f.startswith(\"_\")\n",
    "]\n",
    "newest_folder = sorted(folders)[-1]\n",
    "assert \"cheat_sheet.csv\" in os.listdir(newest_folder), \"No cheat sheet found\"\n",
    "\n",
    "# Load cheat sheet\n",
    "cheat_sheet = pd.read_csv(f\"{newest_folder}/cheat_sheet.csv\", header=5)"
   ]
  },
  {
   "cell_type": "markdown",
   "metadata": {},
   "source": [
    "### Preprocess/clean up cheat sheet"
   ]
  },
  {
   "cell_type": "code",
   "execution_count": 73,
   "metadata": {},
   "outputs": [],
   "source": [
    "# Remove unnamed columns\n",
    "cheat_sheet = cheat_sheet.loc[:, ~cheat_sheet.columns.str.contains(\"^Unnamed\")]\n",
    "\n",
    "# # Split all column names on periods and take the first part\n",
    "cheat_sheet.columns = cheat_sheet.columns.str.split(\".\").str[0]\n",
    "\n",
    "# Melt on duplicate columns\n",
    "cols = cheat_sheet.columns[~cheat_sheet.columns.duplicated()]\n",
    "n_splits = cheat_sheet.shape[1] // len(cols)\n",
    "splits = np.split(np.arange(cheat_sheet.shape[1]), n_splits)\n",
    "dfs = [cheat_sheet.iloc[:, split] for split in splits]\n",
    "cheat_sheet = pd.concat(dfs, axis=0).reset_index(drop=True)\n",
    "\n",
    "# Only take first character for values in POS column\n",
    "cheat_sheet[\"POS\"] = cheat_sheet[\"POS\"].str[0]\n",
    "\n",
    "# Remove unneeded positions\n",
    "pos_needed = set(\n",
    "    np.hstack(np.array([p[0] for p in POS], dtype=object)).tolist()\n",
    ")\n",
    "cheat_sheet = cheat_sheet[cheat_sheet[\"POS\"].isin(pos_needed)]"
   ]
  }
 ],
 "metadata": {
  "kernelspec": {
   "display_name": ".env",
   "language": "python",
   "name": "python3"
  },
  "language_info": {
   "codemirror_mode": {
    "name": "ipython",
    "version": 3
   },
   "file_extension": ".py",
   "mimetype": "text/x-python",
   "name": "python",
   "nbconvert_exporter": "python",
   "pygments_lexer": "ipython3",
   "version": "3.10.6"
  }
 },
 "nbformat": 4,
 "nbformat_minor": 2
}
